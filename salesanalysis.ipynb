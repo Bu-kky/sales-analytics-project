{
 "cells": [
  {
   "cell_type": "code",
   "execution_count": 1,
   "id": "92affe1f-1a82-4136-b2e9-6a1d07de2ed5",
   "metadata": {},
   "outputs": [
    {
     "data": {
      "text/html": [
       "<div>\n",
       "<style scoped>\n",
       "    .dataframe tbody tr th:only-of-type {\n",
       "        vertical-align: middle;\n",
       "    }\n",
       "\n",
       "    .dataframe tbody tr th {\n",
       "        vertical-align: top;\n",
       "    }\n",
       "\n",
       "    .dataframe thead th {\n",
       "        text-align: right;\n",
       "    }\n",
       "</style>\n",
       "<table border=\"1\" class=\"dataframe\">\n",
       "  <thead>\n",
       "    <tr style=\"text-align: right;\">\n",
       "      <th></th>\n",
       "      <th>Order ID</th>\n",
       "      <th>Date</th>\n",
       "      <th>Product</th>\n",
       "      <th>Price</th>\n",
       "      <th>Quantity</th>\n",
       "      <th>Purchase Type</th>\n",
       "      <th>Payment Method</th>\n",
       "      <th>Manager</th>\n",
       "      <th>City</th>\n",
       "    </tr>\n",
       "  </thead>\n",
       "  <tbody>\n",
       "    <tr>\n",
       "      <th>0</th>\n",
       "      <td>10452</td>\n",
       "      <td>07-11-2022</td>\n",
       "      <td>Fries</td>\n",
       "      <td>3.49</td>\n",
       "      <td>573.07</td>\n",
       "      <td>Online</td>\n",
       "      <td>Gift Card</td>\n",
       "      <td>TomJackson</td>\n",
       "      <td>London</td>\n",
       "    </tr>\n",
       "    <tr>\n",
       "      <th>1</th>\n",
       "      <td>10453</td>\n",
       "      <td>07-11-2022</td>\n",
       "      <td>Beverages</td>\n",
       "      <td>2.95</td>\n",
       "      <td>745.76</td>\n",
       "      <td>Online</td>\n",
       "      <td>Gift Card</td>\n",
       "      <td>PabloPerez</td>\n",
       "      <td>Madrid</td>\n",
       "    </tr>\n",
       "    <tr>\n",
       "      <th>2</th>\n",
       "      <td>10454</td>\n",
       "      <td>07-11-2022</td>\n",
       "      <td>Sides &amp; Other</td>\n",
       "      <td>4.99</td>\n",
       "      <td>200.40</td>\n",
       "      <td>In-store</td>\n",
       "      <td>Gift Card</td>\n",
       "      <td>JoaoSilva</td>\n",
       "      <td>Lisbon</td>\n",
       "    </tr>\n",
       "    <tr>\n",
       "      <th>3</th>\n",
       "      <td>10455</td>\n",
       "      <td>08-11-2022</td>\n",
       "      <td>Burgers</td>\n",
       "      <td>12.99</td>\n",
       "      <td>569.67</td>\n",
       "      <td>In-store</td>\n",
       "      <td>Credit Card</td>\n",
       "      <td>WalterMuller</td>\n",
       "      <td>Berlin</td>\n",
       "    </tr>\n",
       "    <tr>\n",
       "      <th>4</th>\n",
       "      <td>10456</td>\n",
       "      <td>08-11-2022</td>\n",
       "      <td>Chicken Sandwiches</td>\n",
       "      <td>9.95</td>\n",
       "      <td>201.01</td>\n",
       "      <td>In-store</td>\n",
       "      <td>Credit Card</td>\n",
       "      <td>WalterMuller</td>\n",
       "      <td>Berlin</td>\n",
       "    </tr>\n",
       "  </tbody>\n",
       "</table>\n",
       "</div>"
      ],
      "text/plain": [
       "   Order ID        Date             Product  Price  Quantity Purchase Type  \\\n",
       "0     10452  07-11-2022               Fries   3.49    573.07       Online    \n",
       "1     10453  07-11-2022           Beverages   2.95    745.76       Online    \n",
       "2     10454  07-11-2022       Sides & Other   4.99    200.40     In-store    \n",
       "3     10455  08-11-2022             Burgers  12.99    569.67     In-store    \n",
       "4     10456  08-11-2022  Chicken Sandwiches   9.95    201.01     In-store    \n",
       "\n",
       "  Payment Method       Manager    City  \n",
       "0      Gift Card    TomJackson  London  \n",
       "1      Gift Card    PabloPerez  Madrid  \n",
       "2      Gift Card     JoaoSilva  Lisbon  \n",
       "3    Credit Card  WalterMuller  Berlin  \n",
       "4    Credit Card  WalterMuller  Berlin  "
      ]
     },
     "execution_count": 1,
     "metadata": {},
     "output_type": "execute_result"
    }
   ],
   "source": [
    "import numpy as np\n",
    "import pandas as pd\n",
    "import matplotlib. pyplot as plt\n",
    "\n",
    "df=pd.read_csv(\"9. Sales-Data-Analysis.csv\")\n",
    "df[\"Manager\"]=df[\"Manager\"].str.strip().str.replace(\" \",\"\")\n",
    "df.head()"
   ]
  },
  {
   "cell_type": "code",
   "execution_count": 2,
   "id": "2d7d8cb3-be43-482a-b836-ba0f4c63b49b",
   "metadata": {},
   "outputs": [
    {
     "name": "stdout",
     "output_type": "stream",
     "text": [
      "<class 'pandas.core.frame.DataFrame'>\n",
      "RangeIndex: 254 entries, 0 to 253\n",
      "Data columns (total 9 columns):\n",
      " #   Column          Non-Null Count  Dtype  \n",
      "---  ------          --------------  -----  \n",
      " 0   Order ID        254 non-null    int64  \n",
      " 1   Date            254 non-null    object \n",
      " 2   Product         254 non-null    object \n",
      " 3   Price           254 non-null    float64\n",
      " 4   Quantity        254 non-null    float64\n",
      " 5   Purchase Type   254 non-null    object \n",
      " 6   Payment Method  254 non-null    object \n",
      " 7   Manager         254 non-null    object \n",
      " 8   City            254 non-null    object \n",
      "dtypes: float64(2), int64(1), object(6)\n",
      "memory usage: 18.0+ KB\n"
     ]
    }
   ],
   "source": [
    "df.info()"
   ]
  },
  {
   "cell_type": "code",
   "execution_count": 3,
   "id": "f27f5199-d572-4c90-bba2-71f857c21511",
   "metadata": {},
   "outputs": [
    {
     "data": {
      "text/plain": [
       "City\n",
       "London    75\n",
       "Lisbon    75\n",
       "Madrid    46\n",
       "Berlin    30\n",
       "Paris     28\n",
       "Name: count, dtype: int64"
      ]
     },
     "execution_count": 3,
     "metadata": {},
     "output_type": "execute_result"
    }
   ],
   "source": [
    "df[\"City\"].value_counts()"
   ]
  },
  {
   "cell_type": "code",
   "execution_count": 4,
   "id": "7ad82c5a-2229-4d86-8a6d-49c19870e7bc",
   "metadata": {},
   "outputs": [
    {
     "data": {
      "text/plain": [
       "Text(0.5, 1.0, 'City analysis')"
      ]
     },
     "execution_count": 4,
     "metadata": {},
     "output_type": "execute_result"
    },
    {
     "data": {
      "image/png": "[encoded data removed]",
      "text/plain": [
       "<Figure size 640x480 with 1 Axes>"
      ]
     },
     "metadata": {},
     "output_type": "display_data"
    }
   ],
   "source": [
    "plt.hist(df[\"City\"])\n",
    "plt.title(\"City analysis\")"
   ]
  },
  {
   "cell_type": "code",
   "execution_count": 5,
   "id": "18b2d98b-bb90-458f-9456-bce55d4dc5e2",
   "metadata": {},
   "outputs": [
    {
     "data": {
      "text/plain": [
       "Product\n",
       "Beverages             34983.14\n",
       "Burgers               29022.31\n",
       "Chicken Sandwiches    11135.92\n",
       "Fries                 32034.34\n",
       "Sides & Other          9819.60\n",
       "Name: Quantity, dtype: float64"
      ]
     },
     "execution_count": 5,
     "metadata": {},
     "output_type": "execute_result"
    }
   ],
   "source": [
    "df.groupby(\"Product\")[\"Quantity\"].sum()"
   ]
  },
  {
   "cell_type": "code",
   "execution_count": 18,
   "id": "ee969b66-4411-4ed0-9373-08f7489b7132",
   "metadata": {},
   "outputs": [
    {
     "data": {
      "text/plain": [
       "Product\n",
       "Burgers               52\n",
       "Chicken Sandwiches    52\n",
       "Fries                 51\n",
       "Beverages             50\n",
       "Sides & Other         49\n",
       "Name: count, dtype: int64"
      ]
     },
     "execution_count": 18,
     "metadata": {},
     "output_type": "execute_result"
    }
   ],
   "source": [
    "df[\"Product\"].value_counts()"
   ]
  },
  {
   "cell_type": "code",
   "execution_count": 19,
   "id": "55a22180-aa00-47d4-a6ec-c766d6a8a90a",
   "metadata": {},
   "outputs": [
    {
     "data": {
      "text/plain": [
       "Text(0.5, 1.0, 'Product Anaysis')"
      ]
     },
     "execution_count": 19,
     "metadata": {},
     "output_type": "execute_result"
    },
    {
     "data": {
      "image/png": "[encoded data removed]",
      "text/plain": [
       "<Figure size 640x480 with 1 Axes>"
      ]
     },
     "metadata": {},
     "output_type": "display_data"
    }
   ],
   "source": [
    "plt.hist(df[\"Product\"])\n",
    "plt.title(\"Product Anaysis\")"
   ]
  },
  {
   "cell_type": "code",
   "execution_count": 10,
   "id": "102023bc-0f4e-4692-ace7-c8af921675cc",
   "metadata": {},
   "outputs": [
    {
     "data": {
      "text/plain": [
       "Purchase Type\n",
       "Online         107\n",
       "In-store        86\n",
       "Drive-thru      61\n",
       "Name: count, dtype: int64"
      ]
     },
     "execution_count": 10,
     "metadata": {},
     "output_type": "execute_result"
    }
   ],
   "source": [
    "df[\"Purchase Type\"].value_counts()"
   ]
  },
  {
   "cell_type": "code",
   "execution_count": 11,
   "id": "3578d591-5984-490e-95b5-2ffa2de19430",
   "metadata": {},
   "outputs": [
    {
     "data": {
      "text/plain": [
       "Payment Method\n",
       "Credit Card    120\n",
       "Cash            76\n",
       "Gift Card       58\n",
       "Name: count, dtype: int64"
      ]
     },
     "execution_count": 11,
     "metadata": {},
     "output_type": "execute_result"
    }
   ],
   "source": [
    "df[\"Payment Method\"].value_counts()"
   ]
  },
  {
   "cell_type": "code",
   "execution_count": 12,
   "id": "5604728f-cb03-4dd8-bf41-eeb7b9a4634f",
   "metadata": {},
   "outputs": [
    {
     "data": {
      "text/plain": [
       "Manager\n",
       "TomJackson      75\n",
       "JoaoSilva       75\n",
       "PabloPerez      46\n",
       "WalterMuller    30\n",
       "RemyMonet       28\n",
       "Name: count, dtype: int64"
      ]
     },
     "execution_count": 12,
     "metadata": {},
     "output_type": "execute_result"
    }
   ],
   "source": [
    "df[\"Manager\"].value_counts()"
   ]
  },
  {
   "cell_type": "code",
   "execution_count": 13,
   "id": "96b750a9-f27b-4363-9805-9a22caccc9de",
   "metadata": {},
   "outputs": [
    {
     "data": {
      "text/plain": [
       "Manager\n",
       "JoaoSilva       35752.84\n",
       "PabloPerez      20444.25\n",
       "RemyMonet       12491.53\n",
       "TomJackson      33535.34\n",
       "WalterMuller    14771.35\n",
       "Name: Quantity, dtype: float64"
      ]
     },
     "execution_count": 13,
     "metadata": {},
     "output_type": "execute_result"
    }
   ],
   "source": [
    "df.groupby(\"Manager\")[\"Quantity\"].sum()"
   ]
  },
  {
   "cell_type": "code",
   "execution_count": 14,
   "id": "a572d7a9-7713-4d81-87e2-94b47d9b46e0",
   "metadata": {},
   "outputs": [
    {
     "data": {
      "text/plain": [
       "Text(0.5, 1.0, 'Manager performance analysis')"
      ]
     },
     "execution_count": 14,
     "metadata": {},
     "output_type": "execute_result"
    },
    {
     "data": {
      "image/png": "[encoded data removed]",
      "text/plain": [
       "<Figure size 640x480 with 1 Axes>"
      ]
     },
     "metadata": {},
     "output_type": "display_data"
    }
   ],
   "source": [
    "plt.hist(df[\"Manager\"])\n",
    "plt.title(\"Manager performance analysis\")"
   ]
  },
  {
   "cell_type": "code",
   "execution_count": 15,
   "id": "e862fb39-d721-4273-acea-2cf9282a98bc",
   "metadata": {},
   "outputs": [
    {
     "data": {
      "text/html": [
       "<div>\n",
       "<style scoped>\n",
       "    .dataframe tbody tr th:only-of-type {\n",
       "        vertical-align: middle;\n",
       "    }\n",
       "\n",
       "    .dataframe tbody tr th {\n",
       "        vertical-align: top;\n",
       "    }\n",
       "\n",
       "    .dataframe thead th {\n",
       "        text-align: right;\n",
       "    }\n",
       "</style>\n",
       "<table border=\"1\" class=\"dataframe\">\n",
       "  <thead>\n",
       "    <tr style=\"text-align: right;\">\n",
       "      <th></th>\n",
       "      <th>Order ID</th>\n",
       "      <th>Date</th>\n",
       "      <th>Product</th>\n",
       "      <th>Price</th>\n",
       "      <th>Quantity</th>\n",
       "      <th>Purchase Type</th>\n",
       "      <th>Payment Method</th>\n",
       "      <th>Manager</th>\n",
       "      <th>City</th>\n",
       "      <th>Total Profit</th>\n",
       "    </tr>\n",
       "  </thead>\n",
       "  <tbody>\n",
       "    <tr>\n",
       "      <th>0</th>\n",
       "      <td>10452</td>\n",
       "      <td>07-11-2022</td>\n",
       "      <td>Fries</td>\n",
       "      <td>3.49</td>\n",
       "      <td>573.07</td>\n",
       "      <td>Online</td>\n",
       "      <td>Gift Card</td>\n",
       "      <td>TomJackson</td>\n",
       "      <td>London</td>\n",
       "      <td>2000.0143</td>\n",
       "    </tr>\n",
       "    <tr>\n",
       "      <th>1</th>\n",
       "      <td>10453</td>\n",
       "      <td>07-11-2022</td>\n",
       "      <td>Beverages</td>\n",
       "      <td>2.95</td>\n",
       "      <td>745.76</td>\n",
       "      <td>Online</td>\n",
       "      <td>Gift Card</td>\n",
       "      <td>PabloPerez</td>\n",
       "      <td>Madrid</td>\n",
       "      <td>2199.9920</td>\n",
       "    </tr>\n",
       "    <tr>\n",
       "      <th>2</th>\n",
       "      <td>10454</td>\n",
       "      <td>07-11-2022</td>\n",
       "      <td>Sides &amp; Other</td>\n",
       "      <td>4.99</td>\n",
       "      <td>200.40</td>\n",
       "      <td>In-store</td>\n",
       "      <td>Gift Card</td>\n",
       "      <td>JoaoSilva</td>\n",
       "      <td>Lisbon</td>\n",
       "      <td>999.9960</td>\n",
       "    </tr>\n",
       "    <tr>\n",
       "      <th>3</th>\n",
       "      <td>10455</td>\n",
       "      <td>08-11-2022</td>\n",
       "      <td>Burgers</td>\n",
       "      <td>12.99</td>\n",
       "      <td>569.67</td>\n",
       "      <td>In-store</td>\n",
       "      <td>Credit Card</td>\n",
       "      <td>WalterMuller</td>\n",
       "      <td>Berlin</td>\n",
       "      <td>7400.0133</td>\n",
       "    </tr>\n",
       "    <tr>\n",
       "      <th>4</th>\n",
       "      <td>10456</td>\n",
       "      <td>08-11-2022</td>\n",
       "      <td>Chicken Sandwiches</td>\n",
       "      <td>9.95</td>\n",
       "      <td>201.01</td>\n",
       "      <td>In-store</td>\n",
       "      <td>Credit Card</td>\n",
       "      <td>WalterMuller</td>\n",
       "      <td>Berlin</td>\n",
       "      <td>2000.0495</td>\n",
       "    </tr>\n",
       "    <tr>\n",
       "      <th>...</th>\n",
       "      <td>...</td>\n",
       "      <td>...</td>\n",
       "      <td>...</td>\n",
       "      <td>...</td>\n",
       "      <td>...</td>\n",
       "      <td>...</td>\n",
       "      <td>...</td>\n",
       "      <td>...</td>\n",
       "      <td>...</td>\n",
       "      <td>...</td>\n",
       "    </tr>\n",
       "    <tr>\n",
       "      <th>249</th>\n",
       "      <td>10709</td>\n",
       "      <td>28-12-2022</td>\n",
       "      <td>Sides &amp; Other</td>\n",
       "      <td>4.99</td>\n",
       "      <td>200.40</td>\n",
       "      <td>Drive-thru</td>\n",
       "      <td>Gift Card</td>\n",
       "      <td>WalterMuller</td>\n",
       "      <td>Berlin</td>\n",
       "      <td>999.9960</td>\n",
       "    </tr>\n",
       "    <tr>\n",
       "      <th>250</th>\n",
       "      <td>10710</td>\n",
       "      <td>29-12-2022</td>\n",
       "      <td>Burgers</td>\n",
       "      <td>12.99</td>\n",
       "      <td>754.43</td>\n",
       "      <td>Drive-thru</td>\n",
       "      <td>Gift Card</td>\n",
       "      <td>WalterMuller</td>\n",
       "      <td>Berlin</td>\n",
       "      <td>9800.0457</td>\n",
       "    </tr>\n",
       "    <tr>\n",
       "      <th>251</th>\n",
       "      <td>10711</td>\n",
       "      <td>29-12-2022</td>\n",
       "      <td>Chicken Sandwiches</td>\n",
       "      <td>9.95</td>\n",
       "      <td>281.41</td>\n",
       "      <td>Drive-thru</td>\n",
       "      <td>Gift Card</td>\n",
       "      <td>WalterMuller</td>\n",
       "      <td>Berlin</td>\n",
       "      <td>2800.0295</td>\n",
       "    </tr>\n",
       "    <tr>\n",
       "      <th>252</th>\n",
       "      <td>10712</td>\n",
       "      <td>29-12-2022</td>\n",
       "      <td>Fries</td>\n",
       "      <td>3.49</td>\n",
       "      <td>630.37</td>\n",
       "      <td>Drive-thru</td>\n",
       "      <td>Gift Card</td>\n",
       "      <td>WalterMuller</td>\n",
       "      <td>Berlin</td>\n",
       "      <td>2199.9913</td>\n",
       "    </tr>\n",
       "    <tr>\n",
       "      <th>253</th>\n",
       "      <td>10713</td>\n",
       "      <td>29-12-2022</td>\n",
       "      <td>Beverages</td>\n",
       "      <td>2.95</td>\n",
       "      <td>677.97</td>\n",
       "      <td>Drive-thru</td>\n",
       "      <td>Gift Card</td>\n",
       "      <td>WalterMuller</td>\n",
       "      <td>Berlin</td>\n",
       "      <td>2000.0115</td>\n",
       "    </tr>\n",
       "  </tbody>\n",
       "</table>\n",
       "<p>254 rows × 10 columns</p>\n",
       "</div>"
      ],
      "text/plain": [
       "     Order ID        Date             Product  Price  Quantity Purchase Type  \\\n",
       "0       10452  07-11-2022               Fries   3.49    573.07       Online    \n",
       "1       10453  07-11-2022           Beverages   2.95    745.76       Online    \n",
       "2       10454  07-11-2022       Sides & Other   4.99    200.40     In-store    \n",
       "3       10455  08-11-2022             Burgers  12.99    569.67     In-store    \n",
       "4       10456  08-11-2022  Chicken Sandwiches   9.95    201.01     In-store    \n",
       "..        ...         ...                 ...    ...       ...           ...   \n",
       "249     10709  28-12-2022       Sides & Other   4.99    200.40   Drive-thru    \n",
       "250     10710  29-12-2022             Burgers  12.99    754.43   Drive-thru    \n",
       "251     10711  29-12-2022  Chicken Sandwiches   9.95    281.41   Drive-thru    \n",
       "252     10712  29-12-2022               Fries   3.49    630.37   Drive-thru    \n",
       "253     10713  29-12-2022           Beverages   2.95    677.97   Drive-thru    \n",
       "\n",
       "    Payment Method       Manager    City  Total Profit  \n",
       "0        Gift Card    TomJackson  London     2000.0143  \n",
       "1        Gift Card    PabloPerez  Madrid     2199.9920  \n",
       "2        Gift Card     JoaoSilva  Lisbon      999.9960  \n",
       "3      Credit Card  WalterMuller  Berlin     7400.0133  \n",
       "4      Credit Card  WalterMuller  Berlin     2000.0495  \n",
       "..             ...           ...     ...           ...  \n",
       "249      Gift Card  WalterMuller  Berlin      999.9960  \n",
       "250      Gift Card  WalterMuller  Berlin     9800.0457  \n",
       "251      Gift Card  WalterMuller  Berlin     2800.0295  \n",
       "252      Gift Card  WalterMuller  Berlin     2199.9913  \n",
       "253      Gift Card  WalterMuller  Berlin     2000.0115  \n",
       "\n",
       "[254 rows x 10 columns]"
      ]
     },
     "execution_count": 15,
     "metadata": {},
     "output_type": "execute_result"
    }
   ],
   "source": [
    "df[\"Total Profit\"]= df[\"Price\"] * df[\"Quantity\"]\n",
    "df"
   ]
  },
  {
   "cell_type": "code",
   "execution_count": 16,
   "id": "e6dfb671-d0ad-4330-be52-af00fba66872",
   "metadata": {},
   "outputs": [
    {
     "data": {
      "text/plain": [
       "Manager\n",
       "JoaoSilva       241714.1157\n",
       "PabloPerez      136200.2665\n",
       "RemyMonet        79800.3051\n",
       "TomJackson      211201.0406\n",
       "WalterMuller    100600.1313\n",
       "Name: Total Profit, dtype: float64"
      ]
     },
     "execution_count": 16,
     "metadata": {},
     "output_type": "execute_result"
    }
   ],
   "source": [
    "df.groupby(\"Manager\")[\"Total Profit\"].sum()"
   ]
  },
  {
   "cell_type": "code",
   "execution_count": null,
   "id": "154ef7d9-6bee-401a-92ce-d82cdd4da10e",
   "metadata": {},
   "outputs": [],
   "source": []
  }
 ],
 "metadata": {
  "kernelspec": {
   "display_name": "Python 3 (ipykernel)",
   "language": "python",
   "name": "python3"
  },
  "language_info": {
   "codemirror_mode": {
    "name": "ipython",
    "version": 3
   },
   "file_extension": ".py",
   "mimetype": "text/x-python",
   "name": "python",
   "nbconvert_exporter": "python",
   "pygments_lexer": "ipython3",
   "version": "3.12.7"
  }
 },
 "nbformat": 4,
 "nbformat_minor": 5
}
